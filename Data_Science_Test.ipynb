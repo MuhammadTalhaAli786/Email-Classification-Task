{
  "nbformat": 4,
  "nbformat_minor": 0,
  "metadata": {
    "colab": {
      "provenance": []
    },
    "kernelspec": {
      "name": "python3",
      "display_name": "Python 3"
    },
    "language_info": {
      "name": "python"
    }
  },
  "cells": [
    {
      "cell_type": "code",
      "source": [
        "import pandas as pd\n",
        "import re\n",
        "from nltk.corpus import stopwords\n",
        "from nltk.tokenize import word_tokenize\n",
        "from nltk.stem import PorterStemmer\n",
        "from sklearn.model_selection import train_test_split\n",
        "\n",
        "# Download stopwords\n",
        "import nltk\n",
        "nltk.download('stopwords')\n",
        "\n",
        "# Load dataset\n",
        "df = pd.read_csv('spam_assassin.csv')\n",
        "\n",
        "# Remove email headers and metadata (optional)\n",
        "df['text'] = df['text'].apply(lambda x: re.sub(r'From:.*\\n', '', x))\n",
        "\n",
        "# Convert text to lowercase\n",
        "df['text'] = df['text'].apply(lambda x: x.lower())\n",
        "\n",
        "# Remove special characters and numbers\n",
        "df['text'] = df['text'].apply(lambda x: re.sub(r'\\W', ' ', x))\n",
        "\n",
        "# Remove stop words\n",
        "stop_words = set(stopwords.words('english'))\n",
        "df['text'] = df['text'].apply(lambda x: ' '.join([word for word in x.split() if word not in stop_words]))\n",
        "\n",
        "# Stemming\n",
        "stemmer = PorterStemmer()\n",
        "df['text'] = df['text'].apply(lambda x: ' '.join([stemmer.stem(word) for word in x.split()]))\n"
      ],
      "metadata": {
        "colab": {
          "base_uri": "https://localhost:8080/",
          "height": 0
        },
        "id": "OWkPo7n1v5dU",
        "outputId": "082c31bf-ed73-472a-cb9b-27c8f889915c"
      },
      "execution_count": 1,
      "outputs": [
        {
          "output_type": "stream",
          "name": "stderr",
          "text": [
            "[nltk_data] Downloading package stopwords to /root/nltk_data...\n",
            "[nltk_data]   Unzipping corpora/stopwords.zip.\n"
          ]
        }
      ]
    },
    {
      "cell_type": "code",
      "source": [
        "import pandas as pd\n",
        "import re\n",
        "from nltk.corpus import stopwords\n",
        "from nltk.stem import PorterStemmer\n",
        "import nltk\n",
        "\n",
        "# Ensure stopwords resource is available\n",
        "nltk.download('stopwords')\n",
        "\n",
        "# Load dataset\n",
        "df = pd.read_csv('spam_assassin.csv')\n",
        "\n",
        "\n",
        "# Step 1: Identify missing values\n",
        "print(df.isnull().sum())  # Check for missing values in the dataset\n",
        "\n",
        "# Step 2: Handle missing values (if any)\n",
        "# Option 1: Remove rows with missing text data\n",
        "df.dropna(subset=['text'], inplace=True)\n",
        "\n",
        "# Option 2: Impute missing values (if any)\n",
        "df['text'].fillna('unknown', inplace=True)\n",
        "\n",
        "# Step 3: Further noise removal (if needed)\n",
        "# Remove text segments that are too short (e.g., less than 5 characters) or too long\n",
        "df = df[df['text'].str.len() > 5]  # Example of filtering very short text\n",
        "\n",
        "# Step 1: Remove email headers and metadata (optional)\n",
        "# Assuming headers are separated by '\\n'\n",
        "df['text'] = df['text'].apply(lambda x: re.sub(r'From:.*\\n', '', x))\n",
        "\n",
        "# Step 2: Convert text to lowercase\n",
        "df['text'] = df['text'].apply(lambda x: x.lower())\n",
        "\n",
        "# Step 3: Remove special characters and numbers\n",
        "df['text'] = df['text'].apply(lambda x: re.sub(r'\\W', ' ', x))\n",
        "\n",
        "# Step 4: Remove stop words\n",
        "stop_words = set(stopwords.words('english'))\n",
        "df['text'] = df['text'].apply(lambda x: ' '.join([word for word in x.split() if word not in stop_words]))\n",
        "\n",
        "# Step 5: Stemming (reducing words to their root form)\n",
        "stemmer = PorterStemmer()\n",
        "df['text'] = df['text'].apply(lambda x: ' '.join([stemmer.stem(word) for word in x.split()]))\n",
        "\n",
        "# Optional: View the first few rows of the processed data\n",
        "print(df.head())\n"
      ],
      "metadata": {
        "colab": {
          "base_uri": "https://localhost:8080/",
          "height": 0
        },
        "id": "xCZvDl2GwdjK",
        "outputId": "01176487-15b8-4fb4-e14c-9efc3c5e5b82"
      },
      "execution_count": 2,
      "outputs": [
        {
          "output_type": "stream",
          "name": "stderr",
          "text": [
            "[nltk_data] Downloading package stopwords to /root/nltk_data...\n",
            "[nltk_data]   Package stopwords is already up-to-date!\n"
          ]
        },
        {
          "output_type": "stream",
          "name": "stdout",
          "text": [
            "text      0\n",
            "target    0\n",
            "dtype: int64\n",
            "                                                text  target\n",
            "0  ilug admin linux ie mon jul 29 11 28 02 2002 r...       0\n",
            "1  gort44 excit com mon jun 24 17 54 21 2002 retu...       1\n",
            "2  fork admin xent com mon jul 29 11 39 57 2002 r...       1\n",
            "3  dcm123 btamail net cn mon jun 24 17 49 23 2002...       1\n",
            "4  ilug admin linux ie mon aug 19 11 02 47 2002 r...       0\n"
          ]
        }
      ]
    },
    {
      "cell_type": "code",
      "source": [
        "from sklearn.feature_extraction.text import TfidfVectorizer\n",
        "\n",
        "# Initialize the TF-IDF Vectorizer\n",
        "tfidf_vectorizer = TfidfVectorizer(max_features=5796)  # You can adjust the max_features as needed\n",
        "\n",
        "# Fit and transform the text data to TF-IDF features\n",
        "X = tfidf_vectorizer.fit_transform(df['text'])\n",
        "\n",
        "# Convert to a DataFrame for easier handling\n",
        "X_df = pd.DataFrame(X.toarray(), columns=tfidf_vectorizer.get_feature_names_out())\n",
        "y = df['target']\n",
        "\n",
        "print(X_df.shape)  # Check the shape of the feature set\n"
      ],
      "metadata": {
        "colab": {
          "base_uri": "https://localhost:8080/",
          "height": 0
        },
        "id": "scOWJ59jxvtQ",
        "outputId": "04209321-2b86-44b5-db57-de3edbcf1bde"
      },
      "execution_count": 15,
      "outputs": [
        {
          "output_type": "stream",
          "name": "stdout",
          "text": [
            "(5796, 5796)\n"
          ]
        }
      ]
    },
    {
      "cell_type": "code",
      "source": [
        "from sklearn.feature_selection import RFE\n",
        "from sklearn.linear_model import LogisticRegression\n",
        "\n",
        "# Initialize a Logistic Regression model\n",
        "model = LogisticRegression(max_iter=1000)\n",
        "\n",
        "# Initialize RFE with the model and the number of features to select\n",
        "rfe = RFE(estimator=model, n_features_to_select=5796)  # You can adjust the number of features\n",
        "\n",
        "# Fit RFE on the data\n",
        "rfe = rfe.fit(X_df, y)\n",
        "\n",
        "# Get the selected features\n",
        "selected_features = X_df.columns[rfe.support_]\n",
        "print(\"Selected Features: \", selected_features)\n",
        "\n",
        "# Transform the dataset to only include selected features\n",
        "X_selected = X_df[selected_features]\n"
      ],
      "metadata": {
        "id": "duHygFweyQ2m",
        "colab": {
          "base_uri": "https://localhost:8080/",
          "height": 0
        },
        "outputId": "9a252c5e-73b9-455e-bc20-36c19365ea3a"
      },
      "execution_count": 16,
      "outputs": [
        {
          "output_type": "stream",
          "name": "stdout",
          "text": [
            "Selected Features:  Index(['00', '000', '0000', '000000', '000033', '000066', '000080', '000099',\n",
            "       '0000a0', '0000cc',\n",
            "       ...\n",
            "       'zip', 'zone', 'zoo', 'zope', 'zurich', 'zzn', 'zzzlist', 'zzzz',\n",
            "       'zzzzason', 'zzzzteana'],\n",
            "      dtype='object', length=5796)\n"
          ]
        }
      ]
    },
    {
      "cell_type": "code",
      "source": [
        "from sklearn.model_selection import train_test_split\n",
        "\n",
        "# Split the dataset into training and testing sets\n",
        "X_train, X_test, y_train, y_test = train_test_split(X_selected, y, test_size=0.3, random_state=42)\n",
        "\n",
        "print(\"Training set size:\", X_train.shape)\n",
        "print(\"Testing set size:\", X_test.shape)\n"
      ],
      "metadata": {
        "colab": {
          "base_uri": "https://localhost:8080/",
          "height": 0
        },
        "id": "pCyRSbZqSyyc",
        "outputId": "1afd1cc1-5147-488b-aad6-b56888f1649f"
      },
      "execution_count": 17,
      "outputs": [
        {
          "output_type": "stream",
          "name": "stdout",
          "text": [
            "Training set size: (4057, 5796)\n",
            "Testing set size: (1739, 5796)\n"
          ]
        }
      ]
    },
    {
      "cell_type": "code",
      "source": [
        "from sklearn.naive_bayes import GaussianNB\n",
        "from sklearn.metrics import accuracy_score, classification_report\n",
        "\n",
        "# Initialize the Naive Bayes classifier\n",
        "nb_model = GaussianNB()\n",
        "\n",
        "# Train the model\n",
        "nb_model.fit(X_train, y_train)\n",
        "\n",
        "# Make predictions on the test set\n",
        "nb_predictions = nb_model.predict(X_test)\n",
        "\n",
        "# Evaluate the accuracy\n",
        "nb_accuracy = accuracy_score(y_test, nb_predictions)\n",
        "print(\"Naive Bayes Accuracy:\", nb_accuracy)\n",
        "print(\"Naive Bayes Classification Report:\\n\", classification_report(y_test, nb_predictions))\n"
      ],
      "metadata": {
        "colab": {
          "base_uri": "https://localhost:8080/",
          "height": 0
        },
        "id": "n-svRyNdS1e3",
        "outputId": "41f1067c-1315-4f5f-848a-a5501242430f"
      },
      "execution_count": 18,
      "outputs": [
        {
          "output_type": "stream",
          "name": "stdout",
          "text": [
            "Naive Bayes Accuracy: 0.9815986198964922\n",
            "Naive Bayes Classification Report:\n",
            "               precision    recall  f1-score   support\n",
            "\n",
            "           0       0.98      1.00      0.99      1172\n",
            "           1       0.99      0.95      0.97       567\n",
            "\n",
            "    accuracy                           0.98      1739\n",
            "   macro avg       0.98      0.97      0.98      1739\n",
            "weighted avg       0.98      0.98      0.98      1739\n",
            "\n"
          ]
        }
      ]
    },
    {
      "cell_type": "code",
      "source": [
        "from sklearn.naive_bayes import MultinomialNB\n",
        "\n",
        "# Initialize the Multinomial Naive Bayes classifier\n",
        "mnb_model = MultinomialNB()\n",
        "\n",
        "# Train the model\n",
        "mnb_model.fit(X_train, y_train)\n",
        "\n",
        "# Make predictions on the test set\n",
        "mnb_predictions = mnb_model.predict(X_test)\n",
        "\n",
        "# Evaluate the accuracy\n",
        "mnb_accuracy = accuracy_score(y_test, mnb_predictions)\n",
        "print(\"Multinomial Naive Bayes Accuracy:\", mnb_accuracy)\n",
        "print(\"Multinomial Naive Bayes Classification Report:\\n\", classification_report(y_test, mnb_predictions))\n",
        "\n"
      ],
      "metadata": {
        "colab": {
          "base_uri": "https://localhost:8080/",
          "height": 0
        },
        "id": "KhlnO4A_S-JN",
        "outputId": "6b5f7c7f-aa96-4b1a-91a3-061d5233b505"
      },
      "execution_count": 19,
      "outputs": [
        {
          "output_type": "stream",
          "name": "stdout",
          "text": [
            "Multinomial Naive Bayes Accuracy: 0.9815986198964922\n",
            "Multinomial Naive Bayes Classification Report:\n",
            "               precision    recall  f1-score   support\n",
            "\n",
            "           0       0.97      1.00      0.99      1172\n",
            "           1       1.00      0.94      0.97       567\n",
            "\n",
            "    accuracy                           0.98      1739\n",
            "   macro avg       0.99      0.97      0.98      1739\n",
            "weighted avg       0.98      0.98      0.98      1739\n",
            "\n"
          ]
        }
      ]
    },
    {
      "cell_type": "code",
      "source": [
        "from sklearn.tree import DecisionTreeClassifier\n",
        "\n",
        "# Initialize the Decision Tree classifier\n",
        "j48_model = DecisionTreeClassifier(random_state=42)\n",
        "\n",
        "# Train the model\n",
        "j48_model.fit(X_train, y_train)\n",
        "\n",
        "# Make predictions on the test set\n",
        "j48_predictions = j48_model.predict(X_test)\n",
        "\n",
        "# Evaluate the accuracy\n",
        "j48_accuracy = accuracy_score(y_test, j48_predictions)\n",
        "print(\"J48 Decision Tree Accuracy:\", j48_accuracy)\n",
        "print(\"J48 Decision Tree Classification Report:\\n\", classification_report(y_test, j48_predictions))\n"
      ],
      "metadata": {
        "colab": {
          "base_uri": "https://localhost:8080/",
          "height": 0
        },
        "id": "piMx8-qeTNhW",
        "outputId": "98781264-4f52-43fd-c418-dbd94cdd70b1"
      },
      "execution_count": 20,
      "outputs": [
        {
          "output_type": "stream",
          "name": "stdout",
          "text": [
            "J48 Decision Tree Accuracy: 0.9781483611270846\n",
            "J48 Decision Tree Classification Report:\n",
            "               precision    recall  f1-score   support\n",
            "\n",
            "           0       0.98      0.98      0.98      1172\n",
            "           1       0.97      0.97      0.97       567\n",
            "\n",
            "    accuracy                           0.98      1739\n",
            "   macro avg       0.98      0.98      0.98      1739\n",
            "weighted avg       0.98      0.98      0.98      1739\n",
            "\n"
          ]
        }
      ]
    },
    {
      "cell_type": "code",
      "source": [
        "from sklearn.metrics import confusion_matrix, ConfusionMatrixDisplay\n",
        "\n",
        "# Calculate confusion matrix for Naive Bayes\n",
        "nb_conf_matrix = confusion_matrix(y_test, nb_predictions)\n",
        "\n",
        "# Display the confusion matrix\n",
        "ConfusionMatrixDisplay(nb_conf_matrix, display_labels=[\"Not Spam\", \"Spam\"]).plot(cmap='Blues')\n"
      ],
      "metadata": {
        "colab": {
          "base_uri": "https://localhost:8080/",
          "height": 466
        },
        "id": "hhU74yYCUdjO",
        "outputId": "3e2a9e0d-51db-4379-b0cc-13b05f554fd4"
      },
      "execution_count": 22,
      "outputs": [
        {
          "output_type": "execute_result",
          "data": {
            "text/plain": [
              "<sklearn.metrics._plot.confusion_matrix.ConfusionMatrixDisplay at 0x79345db01c60>"
            ]
          },
          "metadata": {},
          "execution_count": 22
        },
        {
          "output_type": "display_data",
          "data": {
            "text/plain": [
              "<Figure size 640x480 with 2 Axes>"
            ],
            "image/png": "[encoded data removed]"
          },
          "metadata": {}
        }
      ]
    },
    {
      "cell_type": "code",
      "source": [
        "# Calculate confusion matrix for Multinomial Naive Bayes\n",
        "mnb_conf_matrix = confusion_matrix(y_test, mnb_predictions)\n",
        "\n",
        "# Display the confusion matrix\n",
        "ConfusionMatrixDisplay(mnb_conf_matrix, display_labels=[\"Not Spam\", \"Spam\"]).plot(cmap='Greens')\n"
      ],
      "metadata": {
        "colab": {
          "base_uri": "https://localhost:8080/",
          "height": 466
        },
        "id": "0LKCfoM0Ui9R",
        "outputId": "bc3f0bb8-06e2-42b7-d232-2d286ea73f2a"
      },
      "execution_count": 23,
      "outputs": [
        {
          "output_type": "execute_result",
          "data": {
            "text/plain": [
              "<sklearn.metrics._plot.confusion_matrix.ConfusionMatrixDisplay at 0x79345db02470>"
            ]
          },
          "metadata": {},
          "execution_count": 23
        },
        {
          "output_type": "display_data",
          "data": {
            "text/plain": [
              "<Figure size 640x480 with 2 Axes>"
            ],
            "image/png": "[encoded data removed]"
          },
          "metadata": {}
        }
      ]
    },
    {
      "cell_type": "code",
      "source": [
        "# Calculate confusion matrix for J48 Decision Tree\n",
        "j48_conf_matrix = confusion_matrix(y_test, j48_predictions)\n",
        "\n",
        "# Display the confusion matrix\n",
        "ConfusionMatrixDisplay(j48_conf_matrix, display_labels=[\"Not Spam\", \"Spam\"]).plot(cmap='Oranges')\n"
      ],
      "metadata": {
        "colab": {
          "base_uri": "https://localhost:8080/",
          "height": 466
        },
        "id": "WhdBRHT-UnDy",
        "outputId": "ae5952df-ec25-48ee-9146-0b5030d304f7"
      },
      "execution_count": 24,
      "outputs": [
        {
          "output_type": "execute_result",
          "data": {
            "text/plain": [
              "<sklearn.metrics._plot.confusion_matrix.ConfusionMatrixDisplay at 0x79345db02260>"
            ]
          },
          "metadata": {},
          "execution_count": 24
        },
        {
          "output_type": "display_data",
          "data": {
            "text/plain": [
              "<Figure size 640x480 with 2 Axes>"
            ],
            "image/png": "[encoded data removed]"
          },
          "metadata": {}
        }
      ]
    },
    {
      "cell_type": "code",
      "source": [
        "print(\"Summary of Model Accuracies:\")\n",
        "print(f\"Naive Bayes Accuracy: {nb_accuracy}\")\n",
        "print(f\"Multinomial Naive Bayes Accuracy: {mnb_accuracy}\")\n",
        "print(f\"J48 Decision Tree Accuracy: {j48_accuracy}\")\n"
      ],
      "metadata": {
        "colab": {
          "base_uri": "https://localhost:8080/",
          "height": 0
        },
        "id": "nvU55zwFT3zw",
        "outputId": "2130fa7b-6181-4d8e-ec7a-47408c166aea"
      },
      "execution_count": 21,
      "outputs": [
        {
          "output_type": "stream",
          "name": "stdout",
          "text": [
            "Summary of Model Accuracies:\n",
            "Naive Bayes Accuracy: 0.9815986198964922\n",
            "Multinomial Naive Bayes Accuracy: 0.9815986198964922\n",
            "J48 Decision Tree Accuracy: 0.9781483611270846\n"
          ]
        }
      ]
    }
  ]
}